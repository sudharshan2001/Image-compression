{
 "cells": [
  {
   "cell_type": "code",
   "execution_count": 21,
   "id": "f0b1305a",
   "metadata": {},
   "outputs": [],
   "source": [
    "from skimage.metrics import structural_similarity as ssim\n",
    "import os\n",
    "import cv2 as cv\n",
    "import matplotlib.pyplot as plt\n",
    "import PIL,sys\n",
    "import numpy as np\n",
    "from tqdm import tqdm\n",
    "from PIL import Image\n",
    "from matplotlib.image import imread\n"
   ]
  },
  {
   "cell_type": "code",
   "execution_count": 22,
   "id": "3dd0fb52",
   "metadata": {},
   "outputs": [],
   "source": [
    "def Bytes(Bytes) :\n",
    "    kilobytes = Bytes / 1024\n",
    "    return Bytes\n"
   ]
  },
  {
   "cell_type": "code",
   "execution_count": 142,
   "id": "8230b1fc",
   "metadata": {},
   "outputs": [],
   "source": [
    "dir_ = './'"
   ]
  },
  {
   "cell_type": "code",
   "execution_count": null,
   "id": "e81589b3",
   "metadata": {
    "scrolled": false
   },
   "outputs": [
    {
     "name": "stdout",
     "output_type": "stream",
     "text": [
      "sample7\n",
      "The Compression Value is 0.005\n"
     ]
    }
   ],
   "source": [
    "formats = ('.jpg', '.jpeg','.png')\n",
    "\n",
    "for file in os.listdir(dir_):\n",
    "    \n",
    "    if os.path.splitext(file)[1].lower() in formats:\n",
    "        filname = dir_ +'/'+file\n",
    "        print(os.path.splitext(file)[0])\n",
    "        for i in np.arange(0.005,0.1,0.020):\n",
    "            print('The Compression Value is', i)\n",
    "            \n",
    "            A = imread(filname)\n",
    "            Red = A[:,:,0]\n",
    "            Green = A[:,:,1]\n",
    "            Blue  = A[:,:,2]\n",
    "            \n",
    "            final_list = []\n",
    "            for B in (Red, Green, Blue) :  \n",
    "                Bt = np.fft.fft2(B)\n",
    "                Btsort = np.sort(np.abs(Bt.reshape(-1))) # sort by magnitude\n",
    "\n",
    "                keep=i\n",
    "                thresh = Btsort[(int(np.floor((1-keep)*len(Btsort))))-1]\n",
    "\n",
    "                ind = np.abs(Bt)>thresh         \n",
    "                Atlow = Bt * ind   \n",
    "\n",
    "                Alow = np.fft.ifft2(Atlow).real\n",
    "                final_list.append(Alow)\n",
    "                \n",
    "            modified = np.dstack((final_list[0],final_list[1],final_list[2])).astype('uint8')\n",
    "            score = []\n",
    "            \n",
    "            for j in range(3):\n",
    "                dim_orig = A[:,:,j]\n",
    "                modified_orig = modified[:,:,j]\n",
    "                score.append(ssim(dim_orig, modified_orig))\n",
    "            \n",
    "            if os.path.exists('./compressed_images'):\n",
    "                pass \n",
    "            else:\n",
    "                os.mkdir('./compressed_images')\n",
    "                \n",
    "            new_path = './compressed_images/'+os.path.splitext(file)[0]+'_'+str(i)[:5]+'.jpg'\n",
    "            Image.fromarray(modified).save(new_path)\n",
    "            image_file = Image.open(new_path)\n",
    "            \n",
    "            print(f'''\n",
    "            The compression Score is {sum(score)/3}\n",
    "            original size is {Bytes(len(Image.open(filname).fp.read()))}\n",
    "            Compressed Size  is {Bytes(len(image_file.fp.read()))}\n",
    "\n",
    "            ''')\n",
    "            "
   ]
  },
  {
   "cell_type": "code",
   "execution_count": null,
   "id": "f02386d9",
   "metadata": {},
   "outputs": [],
   "source": []
  }
 ],
 "metadata": {
  "kernelspec": {
   "display_name": "Python 3 (ipykernel)",
   "language": "python",
   "name": "python3"
  },
  "language_info": {
   "codemirror_mode": {
    "name": "ipython",
    "version": 3
   },
   "file_extension": ".py",
   "mimetype": "text/x-python",
   "name": "python",
   "nbconvert_exporter": "python",
   "pygments_lexer": "ipython3",
   "version": "3.9.7"
  }
 },
 "nbformat": 4,
 "nbformat_minor": 5
}
